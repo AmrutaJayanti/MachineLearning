{
  "metadata": {
    "kernelspec": {
      "name": "python",
      "display_name": "Python (Pyodide)",
      "language": "python"
    },
    "language_info": {
      "codemirror_mode": {
        "name": "python",
        "version": 3
      },
      "file_extension": ".py",
      "mimetype": "text/x-python",
      "name": "python",
      "nbconvert_exporter": "python",
      "pygments_lexer": "ipython3",
      "version": "3.8"
    }
  },
  "nbformat_minor": 4,
  "nbformat": 4,
  "cells": [
    {
      "cell_type": "code",
      "source": "#Importing packages\nimport pandas as pd\nimport numpy as np",
      "metadata": {
        "trusted": true
      },
      "outputs": [],
      "execution_count": 4
    },
    {
      "cell_type": "code",
      "source": "data = pd.read_csv(\"orders.csv\")\ndf = pd.DataFrame(data)\ndf",
      "metadata": {
        "trusted": true
      },
      "outputs": [
        {
          "execution_count": 5,
          "output_type": "execute_result",
          "data": {
            "text/plain": "   OrderID  CustomerID  Amount   OrderDate\n0      101         1.0  250.50  2024-12-20\n1      102         2.0  120.00  2024-12-21\n2      103         3.0  320.00  2024-12-22\n3      104         4.0     NaN  2024-12-23\n4      105         NaN  150.75  2024-12-24",
            "text/html": "<div>\n<style scoped>\n    .dataframe tbody tr th:only-of-type {\n        vertical-align: middle;\n    }\n\n    .dataframe tbody tr th {\n        vertical-align: top;\n    }\n\n    .dataframe thead th {\n        text-align: right;\n    }\n</style>\n<table border=\"1\" class=\"dataframe\">\n  <thead>\n    <tr style=\"text-align: right;\">\n      <th></th>\n      <th>OrderID</th>\n      <th>CustomerID</th>\n      <th>Amount</th>\n      <th>OrderDate</th>\n    </tr>\n  </thead>\n  <tbody>\n    <tr>\n      <th>0</th>\n      <td>101</td>\n      <td>1.0</td>\n      <td>250.50</td>\n      <td>2024-12-20</td>\n    </tr>\n    <tr>\n      <th>1</th>\n      <td>102</td>\n      <td>2.0</td>\n      <td>120.00</td>\n      <td>2024-12-21</td>\n    </tr>\n    <tr>\n      <th>2</th>\n      <td>103</td>\n      <td>3.0</td>\n      <td>320.00</td>\n      <td>2024-12-22</td>\n    </tr>\n    <tr>\n      <th>3</th>\n      <td>104</td>\n      <td>4.0</td>\n      <td>NaN</td>\n      <td>2024-12-23</td>\n    </tr>\n    <tr>\n      <th>4</th>\n      <td>105</td>\n      <td>NaN</td>\n      <td>150.75</td>\n      <td>2024-12-24</td>\n    </tr>\n  </tbody>\n</table>\n</div>"
          },
          "metadata": {}
        }
      ],
      "execution_count": 5
    },
    {
      "cell_type": "code",
      "source": "#Filling missing values\ndf[\"CustomerID\"] = df[\"CustomerID\"].bfill()\ndf",
      "metadata": {
        "trusted": true
      },
      "outputs": [
        {
          "execution_count": 8,
          "output_type": "execute_result",
          "data": {
            "text/plain": "   OrderID  CustomerID  Amount   OrderDate\n0      101         1.0  250.50  2024-12-20\n1      102         2.0  120.00  2024-12-21\n2      103         3.0  320.00  2024-12-22\n3      104         4.0     NaN  2024-12-23\n4      105         4.0  150.75  2024-12-24",
            "text/html": "<div>\n<style scoped>\n    .dataframe tbody tr th:only-of-type {\n        vertical-align: middle;\n    }\n\n    .dataframe tbody tr th {\n        vertical-align: top;\n    }\n\n    .dataframe thead th {\n        text-align: right;\n    }\n</style>\n<table border=\"1\" class=\"dataframe\">\n  <thead>\n    <tr style=\"text-align: right;\">\n      <th></th>\n      <th>OrderID</th>\n      <th>CustomerID</th>\n      <th>Amount</th>\n      <th>OrderDate</th>\n    </tr>\n  </thead>\n  <tbody>\n    <tr>\n      <th>0</th>\n      <td>101</td>\n      <td>1.0</td>\n      <td>250.50</td>\n      <td>2024-12-20</td>\n    </tr>\n    <tr>\n      <th>1</th>\n      <td>102</td>\n      <td>2.0</td>\n      <td>120.00</td>\n      <td>2024-12-21</td>\n    </tr>\n    <tr>\n      <th>2</th>\n      <td>103</td>\n      <td>3.0</td>\n      <td>320.00</td>\n      <td>2024-12-22</td>\n    </tr>\n    <tr>\n      <th>3</th>\n      <td>104</td>\n      <td>4.0</td>\n      <td>NaN</td>\n      <td>2024-12-23</td>\n    </tr>\n    <tr>\n      <th>4</th>\n      <td>105</td>\n      <td>4.0</td>\n      <td>150.75</td>\n      <td>2024-12-24</td>\n    </tr>\n  </tbody>\n</table>\n</div>"
          },
          "metadata": {}
        }
      ],
      "execution_count": 8
    },
    {
      "cell_type": "code",
      "source": "new_df=df.interpolate()\nnew_df",
      "metadata": {
        "trusted": true
      },
      "outputs": [
        {
          "name": "stderr",
          "text": "<ipython-input-14-dfbaf556cf83>:1: FutureWarning: DataFrame.interpolate with object dtype is deprecated and will raise in a future version. Call obj.infer_objects(copy=False) before interpolating instead.\n  new_df=df.interpolate()\n",
          "output_type": "stream"
        },
        {
          "execution_count": 14,
          "output_type": "execute_result",
          "data": {
            "text/plain": "   OrderID  CustomerID   Amount   OrderDate\n0      101         1.0  250.500  2024-12-20\n1      102         2.0  120.000  2024-12-21\n2      103         3.0  320.000  2024-12-22\n3      104         4.0  235.375  2024-12-23\n4      105         4.0  150.750  2024-12-24",
            "text/html": "<div>\n<style scoped>\n    .dataframe tbody tr th:only-of-type {\n        vertical-align: middle;\n    }\n\n    .dataframe tbody tr th {\n        vertical-align: top;\n    }\n\n    .dataframe thead th {\n        text-align: right;\n    }\n</style>\n<table border=\"1\" class=\"dataframe\">\n  <thead>\n    <tr style=\"text-align: right;\">\n      <th></th>\n      <th>OrderID</th>\n      <th>CustomerID</th>\n      <th>Amount</th>\n      <th>OrderDate</th>\n    </tr>\n  </thead>\n  <tbody>\n    <tr>\n      <th>0</th>\n      <td>101</td>\n      <td>1.0</td>\n      <td>250.500</td>\n      <td>2024-12-20</td>\n    </tr>\n    <tr>\n      <th>1</th>\n      <td>102</td>\n      <td>2.0</td>\n      <td>120.000</td>\n      <td>2024-12-21</td>\n    </tr>\n    <tr>\n      <th>2</th>\n      <td>103</td>\n      <td>3.0</td>\n      <td>320.000</td>\n      <td>2024-12-22</td>\n    </tr>\n    <tr>\n      <th>3</th>\n      <td>104</td>\n      <td>4.0</td>\n      <td>235.375</td>\n      <td>2024-12-23</td>\n    </tr>\n    <tr>\n      <th>4</th>\n      <td>105</td>\n      <td>4.0</td>\n      <td>150.750</td>\n      <td>2024-12-24</td>\n    </tr>\n  </tbody>\n</table>\n</div>"
          },
          "metadata": {}
        }
      ],
      "execution_count": 14
    },
    {
      "cell_type": "code",
      "source": "df.describe()",
      "metadata": {
        "trusted": true
      },
      "outputs": [
        {
          "execution_count": 15,
          "output_type": "execute_result",
          "data": {
            "text/plain": "          OrderID  CustomerID      Amount\ncount    5.000000     5.00000    5.000000\nmean   103.000000     2.80000  215.325000\nstd      1.581139     1.30384   80.394224\nmin    101.000000     1.00000  120.000000\n25%    102.000000     2.00000  150.750000\n50%    103.000000     3.00000  235.375000\n75%    104.000000     4.00000  250.500000\nmax    105.000000     4.00000  320.000000",
            "text/html": "<div>\n<style scoped>\n    .dataframe tbody tr th:only-of-type {\n        vertical-align: middle;\n    }\n\n    .dataframe tbody tr th {\n        vertical-align: top;\n    }\n\n    .dataframe thead th {\n        text-align: right;\n    }\n</style>\n<table border=\"1\" class=\"dataframe\">\n  <thead>\n    <tr style=\"text-align: right;\">\n      <th></th>\n      <th>OrderID</th>\n      <th>CustomerID</th>\n      <th>Amount</th>\n    </tr>\n  </thead>\n  <tbody>\n    <tr>\n      <th>count</th>\n      <td>5.000000</td>\n      <td>5.00000</td>\n      <td>5.000000</td>\n    </tr>\n    <tr>\n      <th>mean</th>\n      <td>103.000000</td>\n      <td>2.80000</td>\n      <td>215.325000</td>\n    </tr>\n    <tr>\n      <th>std</th>\n      <td>1.581139</td>\n      <td>1.30384</td>\n      <td>80.394224</td>\n    </tr>\n    <tr>\n      <th>min</th>\n      <td>101.000000</td>\n      <td>1.00000</td>\n      <td>120.000000</td>\n    </tr>\n    <tr>\n      <th>25%</th>\n      <td>102.000000</td>\n      <td>2.00000</td>\n      <td>150.750000</td>\n    </tr>\n    <tr>\n      <th>50%</th>\n      <td>103.000000</td>\n      <td>3.00000</td>\n      <td>235.375000</td>\n    </tr>\n    <tr>\n      <th>75%</th>\n      <td>104.000000</td>\n      <td>4.00000</td>\n      <td>250.500000</td>\n    </tr>\n    <tr>\n      <th>max</th>\n      <td>105.000000</td>\n      <td>4.00000</td>\n      <td>320.000000</td>\n    </tr>\n  </tbody>\n</table>\n</div>"
          },
          "metadata": {}
        }
      ],
      "execution_count": 15
    },
    {
      "cell_type": "code",
      "source": "df[\"CustomerID\"].value_counts() #Counts unique values in the column CustomerID",
      "metadata": {
        "trusted": true
      },
      "outputs": [
        {
          "execution_count": 16,
          "output_type": "execute_result",
          "data": {
            "text/plain": "CustomerID\n4.0    2\n1.0    1\n2.0    1\n3.0    1\nName: count, dtype: int64"
          },
          "metadata": {}
        }
      ],
      "execution_count": 16
    },
    {
      "cell_type": "code",
      "source": "orders_df =df[[\"OrderID\",\"Amount\"]]\norders_df",
      "metadata": {
        "trusted": true
      },
      "outputs": [
        {
          "execution_count": 25,
          "output_type": "execute_result",
          "data": {
            "text/plain": "   OrderID   Amount\n0      101  250.500\n1      102  120.000\n2      103  320.000\n3      104  235.375\n4      105  150.750",
            "text/html": "<div>\n<style scoped>\n    .dataframe tbody tr th:only-of-type {\n        vertical-align: middle;\n    }\n\n    .dataframe tbody tr th {\n        vertical-align: top;\n    }\n\n    .dataframe thead th {\n        text-align: right;\n    }\n</style>\n<table border=\"1\" class=\"dataframe\">\n  <thead>\n    <tr style=\"text-align: right;\">\n      <th></th>\n      <th>OrderID</th>\n      <th>Amount</th>\n    </tr>\n  </thead>\n  <tbody>\n    <tr>\n      <th>0</th>\n      <td>101</td>\n      <td>250.500</td>\n    </tr>\n    <tr>\n      <th>1</th>\n      <td>102</td>\n      <td>120.000</td>\n    </tr>\n    <tr>\n      <th>2</th>\n      <td>103</td>\n      <td>320.000</td>\n    </tr>\n    <tr>\n      <th>3</th>\n      <td>104</td>\n      <td>235.375</td>\n    </tr>\n    <tr>\n      <th>4</th>\n      <td>105</td>\n      <td>150.750</td>\n    </tr>\n  </tbody>\n</table>\n</div>"
          },
          "metadata": {}
        }
      ],
      "execution_count": 25
    },
    {
      "cell_type": "code",
      "source": "orders_df[\"Amount\"]=orders_df[\"Amount\"].apply(lambda x : x + 50)\norders_df",
      "metadata": {
        "trusted": true
      },
      "outputs": [
        {
          "name": "stderr",
          "text": "<ipython-input-24-05e37c86839f>:1: SettingWithCopyWarning: \nA value is trying to be set on a copy of a slice from a DataFrame.\nTry using .loc[row_indexer,col_indexer] = value instead\n\nSee the caveats in the documentation: https://pandas.pydata.org/pandas-docs/stable/user_guide/indexing.html#returning-a-view-versus-a-copy\n  orders_df[\"Amount\"]=orders_df[\"Amount\"].apply(lambda x : x + 50)\n",
          "output_type": "stream"
        },
        {
          "execution_count": 24,
          "output_type": "execute_result",
          "data": {
            "text/plain": "   OrderID   Amount\n0      101  300.500\n1      102  170.000\n2      103  370.000\n3      104  285.375\n4      105  200.750",
            "text/html": "<div>\n<style scoped>\n    .dataframe tbody tr th:only-of-type {\n        vertical-align: middle;\n    }\n\n    .dataframe tbody tr th {\n        vertical-align: top;\n    }\n\n    .dataframe thead th {\n        text-align: right;\n    }\n</style>\n<table border=\"1\" class=\"dataframe\">\n  <thead>\n    <tr style=\"text-align: right;\">\n      <th></th>\n      <th>OrderID</th>\n      <th>Amount</th>\n    </tr>\n  </thead>\n  <tbody>\n    <tr>\n      <th>0</th>\n      <td>101</td>\n      <td>300.500</td>\n    </tr>\n    <tr>\n      <th>1</th>\n      <td>102</td>\n      <td>170.000</td>\n    </tr>\n    <tr>\n      <th>2</th>\n      <td>103</td>\n      <td>370.000</td>\n    </tr>\n    <tr>\n      <th>3</th>\n      <td>104</td>\n      <td>285.375</td>\n    </tr>\n    <tr>\n      <th>4</th>\n      <td>105</td>\n      <td>200.750</td>\n    </tr>\n  </tbody>\n</table>\n</div>"
          },
          "metadata": {}
        }
      ],
      "execution_count": 24
    },
    {
      "cell_type": "code",
      "source": "arr = orders_df[\"Amount\"].to_numpy()\narr",
      "metadata": {
        "trusted": true
      },
      "outputs": [
        {
          "execution_count": 26,
          "output_type": "execute_result",
          "data": {
            "text/plain": "array([250.5  , 120.   , 320.   , 235.375, 150.75 ])"
          },
          "metadata": {}
        }
      ],
      "execution_count": 26
    },
    {
      "cell_type": "code",
      "source": "arr.dtype",
      "metadata": {
        "trusted": true
      },
      "outputs": [
        {
          "execution_count": 30,
          "output_type": "execute_result",
          "data": {
            "text/plain": "dtype('float64')"
          },
          "metadata": {}
        }
      ],
      "execution_count": 30
    },
    {
      "cell_type": "code",
      "source": "np.vstack(arr)\n# Creates a vertical stack",
      "metadata": {
        "trusted": true
      },
      "outputs": [
        {
          "execution_count": 35,
          "output_type": "execute_result",
          "data": {
            "text/plain": "array([[250.5  ],\n       [120.   ],\n       [320.   ],\n       [235.375],\n       [150.75 ]])"
          },
          "metadata": {}
        }
      ],
      "execution_count": 35
    },
    {
      "cell_type": "code",
      "source": "np.hstack(arr) #creates a horizontal stack",
      "metadata": {
        "trusted": true
      },
      "outputs": [
        {
          "execution_count": 34,
          "output_type": "execute_result",
          "data": {
            "text/plain": "array([250.5  , 120.   , 320.   , 235.375, 150.75 ])"
          },
          "metadata": {}
        }
      ],
      "execution_count": 34
    },
    {
      "cell_type": "code",
      "source": "np.sort(arr)",
      "metadata": {
        "trusted": true
      },
      "outputs": [
        {
          "execution_count": 36,
          "output_type": "execute_result",
          "data": {
            "text/plain": "array([120.   , 150.75 , 235.375, 250.5  , 320.   ])"
          },
          "metadata": {}
        }
      ],
      "execution_count": 36
    },
    {
      "cell_type": "code",
      "source": "np.unique(arr)",
      "metadata": {
        "trusted": true
      },
      "outputs": [
        {
          "execution_count": 37,
          "output_type": "execute_result",
          "data": {
            "text/plain": "array([120.   , 150.75 , 235.375, 250.5  , 320.   ])"
          },
          "metadata": {}
        }
      ],
      "execution_count": 37
    },
    {
      "cell_type": "code",
      "source": "arr[np.where(arr < 200)]",
      "metadata": {
        "trusted": true
      },
      "outputs": [
        {
          "execution_count": 39,
          "output_type": "execute_result",
          "data": {
            "text/plain": "array([120.  , 150.75])"
          },
          "metadata": {}
        }
      ],
      "execution_count": 39
    },
    {
      "cell_type": "code",
      "source": "#Max and min elements\narr[np.argmax(arr)]",
      "metadata": {
        "trusted": true
      },
      "outputs": [
        {
          "execution_count": 41,
          "output_type": "execute_result",
          "data": {
            "text/plain": "320.0"
          },
          "metadata": {}
        }
      ],
      "execution_count": 41
    },
    {
      "cell_type": "code",
      "source": "arr[np.argmin(arr)]",
      "metadata": {
        "trusted": true
      },
      "outputs": [
        {
          "execution_count": 42,
          "output_type": "execute_result",
          "data": {
            "text/plain": "120.0"
          },
          "metadata": {}
        }
      ],
      "execution_count": 42
    }
  ]
}